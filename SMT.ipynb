{
 "cells": [
  {
   "cell_type": "markdown",
   "metadata": {},
   "source": [
    "# Truecasing"
   ]
  },
  {
   "cell_type": "code",
   "execution_count": 1,
   "metadata": {},
   "outputs": [],
   "source": [
    "import os\n",
    "\n",
    "def truecase(experiment_folder):\n",
    "    script = \"/home/samuel/Software/mosesdecoder/scripts/recaser/train-truecaser.perl\"\n",
    "    dev_set = \"/home/samuel/Documents/research_and_development/tweet-norm-dev_\"\n",
    "    \n",
    "    print(\"Learning the truecaser model...\")\n",
    "    for extension in [\"source\", \"target\"]:\n",
    "        !{script} --corpus dev_set{extension}.txt --corpus {experiment_folder}final_paraphrases.{extension}"
   ]
  },
  {
   "cell_type": "markdown",
   "metadata": {},
   "source": [
    "# Cleaning"
   ]
  },
  {
   "cell_type": "code",
   "execution_count": 2,
   "metadata": {},
   "outputs": [],
   "source": [
    "def clean(experiment_folder):\n",
    "    script = \"/home/samuel/Software/mosesdecoder/scripts/training/clean-corpus-n.perl\"\n",
    "    !{script} {experiment_folder}final_paraphrases source target paraphrases.clean 1 80\n",
    "    print(\"Cleaned file.\")"
   ]
  },
  {
   "cell_type": "markdown",
   "metadata": {},
   "source": [
    "# Language Model"
   ]
  },
  {
   "cell_type": "code",
   "execution_count": 3,
   "metadata": {},
   "outputs": [],
   "source": [
    "def create_lm_counts(input_dir, output_dir):\n",
    "    ''' Create language models counts for all the files in a directory '''\n",
    "    \n",
    "    filenames = os.listdir(input_dir)\n",
    "    for filename in filenames:\n",
    "        !/local/kurs/mt/srilm/bin/i686-m64/ngram-count -kndiscount -text {input_dir}{filename} -lm {ouput_dir}/{filename}.counts -order 5 \n",
    "        #!head n1 {input_dir}{filename}\n",
    "        print(\"Created LM counts for file {filename}\".format(**locals()))\n"
   ]
  },
  {
   "cell_type": "markdown",
   "metadata": {},
   "source": [
    "# Translation Model"
   ]
  },
  {
   "cell_type": "code",
   "execution_count": 4,
   "metadata": {},
   "outputs": [],
   "source": [
    "def train_smt(experiment_folder):\n",
    "    script = \"/home/samuel/Software/mosesdecoder/scripts/training/train-model.perl\"\n",
    "    giza = \"/home/samuel/Software/mosesdecoder/tools\"\n",
    "    lm_file = \"/home/samuel/Documents/research_and_development/language_model/lm.gz\"\n",
    "    corpus = \"{experiment_folder}final_paraphrases\".format(**locals())\n",
    "    \n",
    "    print(\"Training SMT model...\")\n",
    "    !{script} --corpus {corpus} --f source --e target --root-dir {experiment_folder}translation_model/ --lm 0:5:{lm_file} --external-bin-dir {giza} >{experiment_folder}logfile 2>&1\n",
    "    print(\"SMT model trained.\")"
   ]
  },
  {
   "cell_type": "markdown",
   "metadata": {},
   "source": [
    "# Tuning"
   ]
  },
  {
   "cell_type": "code",
   "execution_count": 5,
   "metadata": {},
   "outputs": [],
   "source": [
    "def tune_smt(experiment_folder):\n",
    "    script = \"/home/samuel/Software/mosesdecoder/scripts/training/mert-moses.pl\"\n",
    "    dev_source = \"/home/samuel/Documents/research_and_development/dev_set/tweet-norm-dev_source.txt\"\n",
    "    dev_target = \"/home/samuel/Documents/research_and_development/dev_set/tweet-norm-dev_target.txt\"\n",
    "    ini_file = \"{experiment_folder}translation_model/model/moses.ini\".format(**locals())\n",
    "    tuning_dir = \"{experiment_folder}tuning/\".format(**locals())\n",
    "    moses = \"/home/samuel/Software/mosesdecoder/bin/moses\"\n",
    "    !mkdir -p {tuning_dir}\n",
    "    \n",
    "    print(\"Tuning SMT model...\")\n",
    "    !{script} {dev_source} {dev_target} {moses} {ini_file} --working-dir {tuning_dir} --mertdir /home/samuel/Software/mosesdecoder/bin >{tuning_dir}logfile.mert 2>&1 --decoder-flags=\"-threads 4\"\n",
    "    print(\"SMT model tuned.\")"
   ]
  },
  {
   "cell_type": "markdown",
   "metadata": {},
   "source": [
    "# Significance Test"
   ]
  },
  {
   "cell_type": "code",
   "execution_count": 6,
   "metadata": {},
   "outputs": [],
   "source": [
    "def significance_test_pruning(experiment_folder):\n",
    "    file = f\"{experiment_folder}final_paraphrases.\"\n",
    "    index_script = \"/home/samuel/Software/salm/Bin/Linux/Index/IndexSA.O64\"\n",
    "    prune_script = \"/home/samuel/Software/mosesdecoder/contrib/sigtest-filter/filter-pt\"\n",
    "    phrase_table_dir = f\"{experiment_folder}/tuning/filtered/\"\n",
    "    \n",
    "    print(\"Getting indices...\")\n",
    "    for extension in [\"source\", \"target\"]:\n",
    "        !{index_script} {file}{extension}\n",
    "    \n",
    "    print(\"Unziping phrasetable...\")\n",
    "    !zcat {phrase_table_dir}phrase-table.0-0.1.1.gz > {phrase_table_dir}phrase-table\n",
    "    \n",
    "    print(\"Prunning phrasetable...\")\n",
    "    !cat {phrase_table_dir}phrase-table | {prune_script} -e {file}target -f {file}source -l a+e -n 30 > {phrase_table_dir}phrase-table.pruned\n",
    "    print(\"Prunned Phrasetable.\")\n",
    "    !wc l "
   ]
  },
  {
   "cell_type": "code",
   "execution_count": 7,
   "metadata": {},
   "outputs": [],
   "source": [
    "def get_lines(experiment_folder):\n",
    "    path_tuned = f\"{experiment_folder}tuning/filtered/phrase-table\"\n",
    "    path_pruned = f\"{experiment_folder}tuning/filtered/phrase-table.pruned\"\n",
    "    print(\"Tunned:\")\n",
    "    !wc -l {path_tuned}\n",
    "    print(\"Pruned:\")\n",
    "    !wc -l {path_pruned}\n",
    "    print()\n",
    "    "
   ]
  },
  {
   "cell_type": "markdown",
   "metadata": {},
   "source": [
    "# Testing Tuned Translation Model"
   ]
  },
  {
   "cell_type": "code",
   "execution_count": 8,
   "metadata": {},
   "outputs": [],
   "source": [
    "def test_tuned(experiment_folder):\n",
    "    script = \"/home/samuel/Software/mosesdecoder/bin/moses\"\n",
    "    test_set_source = \"/home/samuel/Documents/research_and_development/test_set/tweet-norm-test_source\"\n",
    "    !{script} -f {experiment_folder}tuning/moses.ini < {test_set_source} > results.tuned\n",
    "    print(\"Tuned Translation Model.\")\n"
   ]
  },
  {
   "cell_type": "markdown",
   "metadata": {},
   "source": [
    "# Evaluate CER and Accuracy"
   ]
  },
  {
   "cell_type": "code",
   "execution_count": 12,
   "metadata": {},
   "outputs": [],
   "source": [
    "def evaluate_cer_acc(experiment_folder):\n",
    "    script = \"/home/samuel/Software/mosesdecoder/bin/moses\"\n",
    "    test_set_source = \"/home/samuel/Documents/research_and_development/test_set/tweet-norm-test_source\"\n",
    "    test_set_target = \"/home/samuel/Documents/research_and_development/test_set/tweet-norm-test_target\"\n",
    "    modes = [\"tuning\"]\n",
    "    for mode in modes:\n",
    "        !{script} -f {experiment_folder}tuning/moses.ini < {test_set_source} > {experiment_folder}result.{mode} 2>/dev/null\n",
    "        acc = !python3 eval_acc.py {experiment_folder}result.{mode}  {test_set_target} {test_set_source} {experiment_folder}acc.error.{mode}\n",
    "        cer = !python3 eval_cer.py {experiment_folder}result.{mode}  {test_set_target} {test_set_source} {experiment_folder}cer.error.{mode}\n",
    "        print(\"CER:\\n{cer[0]}\\nAcc:\\n {acc[0]}\\n\\n\".format(**locals()))\n",
    "        return acc, cer"
   ]
  },
  {
   "cell_type": "markdown",
   "metadata": {},
   "source": [
    "# Run experiments"
   ]
  },
  {
   "cell_type": "code",
   "execution_count": 33,
   "metadata": {},
   "outputs": [],
   "source": [
    "import os\n",
    "def run_experiments(experiment_folder):\n",
    "    for experiment in os.listdir(experiment_folder):\n",
    "        if experiment == \"jaccard_0.5\":\n",
    "            print(f\"Runing experiment for {experiment}\")\n",
    "            experiment_path = experiment_folder + experiment + \"/\"\n",
    "            #clean(experiment_path)\n",
    "            #train_smt(experiment_path)\n",
    "            #tune_smt(experiment_path)\n",
    "            #significance_test_pruning(experiment_path)\n",
    "            evaluate_cer_acc(experiment_path)\n",
    "            #get_lines(experiment_path)\n",
    "\n",
    "        "
   ]
  },
  {
   "cell_type": "code",
   "execution_count": 34,
   "metadata": {
    "scrolled": true
   },
   "outputs": [
    {
     "name": "stdout",
     "output_type": "stream",
     "text": [
      "Runing experiment for jaccard_0.5\n",
      "CER:\n",
      "0.17167001080413644\n",
      "Acc:\n",
      " accuracy: 0.16176470588235295\n",
      "\n",
      "\n"
     ]
    }
   ],
   "source": [
    "experiment_folder = \"/home/samuel/Documents/research_and_development/new_experiments_delete/\"\n",
    "run_experiments(experiment_folder)\n",
    "#0.5024509803921569"
   ]
  },
  {
   "cell_type": "code",
   "execution_count": null,
   "metadata": {},
   "outputs": [],
   "source": []
  },
  {
   "cell_type": "code",
   "execution_count": null,
   "metadata": {},
   "outputs": [],
   "source": []
  }
 ],
 "metadata": {
  "kernelspec": {
   "display_name": "Python 3",
   "language": "python",
   "name": "python3"
  },
  "language_info": {
   "codemirror_mode": {
    "name": "ipython",
    "version": 3
   },
   "file_extension": ".py",
   "mimetype": "text/x-python",
   "name": "python",
   "nbconvert_exporter": "python",
   "pygments_lexer": "ipython3",
   "version": "3.6.7"
  }
 },
 "nbformat": 4,
 "nbformat_minor": 2
}
