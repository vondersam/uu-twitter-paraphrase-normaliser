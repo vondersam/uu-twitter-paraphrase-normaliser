{
 "cells": [
  {
   "cell_type": "markdown",
   "metadata": {},
   "source": [
    "# Language Model"
   ]
  },
  {
   "cell_type": "code",
   "execution_count": 80,
   "metadata": {},
   "outputs": [],
   "source": [
    "import os\n",
    "def create_lm_counts(input_dir, output_dir):\n",
    "    ''' Create language models counts for all the files in a directory '''\n",
    "    \n",
    "    filenames = os.listdir(input_dir)\n",
    "    for filename in filenames:\n",
    "        !/local/kurs/mt/srilm/bin/i686-m64/ngram-count -kndiscount -text {input_dir}{filename} -lm {ouput_dir}/{filename}.counts -order 5 \n",
    "        #!head n1 {input_dir}{filename}\n",
    "        print(\"Created LM counts for file {filename}\".format(**locals()))\n"
   ]
  },
  {
   "cell_type": "code",
   "execution_count": 82,
   "metadata": {},
   "outputs": [],
   "source": [
    "lm_corpus_dir = \"/home/m17/samrod/research_and_development/lm_corpus/\"\n",
    "lm_dir = \"/home/m17/samrod/research_and_development/language_model/counts\"\n",
    "\n",
    "#create_lm_counts(lm_corpus_dir, lm_dir)"
   ]
  },
  {
   "cell_type": "markdown",
   "metadata": {},
   "source": [
    "# Training Model"
   ]
  },
  {
   "cell_type": "code",
   "execution_count": null,
   "metadata": {},
   "outputs": [],
   "source": [
    "def train_smt(experiment_folder):\n",
    "    script = \"/local/kurs/mt/mosesdecoder/scripts/training/train-model.perl\"\n",
    "    lm_file = \"{experiment_folder}lm.gz\".format(**locals())\n",
    "    corpus = \"{experiment_folder}\".format(**locals())\n",
    "    !{script} --corpus {corpus} --f source --e target --root-dir {experiment_folder} --lm 0:5:{lm_file} --external-bin-dir /local/kurs/mt/bin64 > {experiment_folder}moses.log 2>&1\n",
    "    print(\"SMT Model trained.\")\n",
    "    \n",
    "def tune_smt(experiment_folder):\n",
    "    script = \"/local/kurs/mt/mosesdecoder/scripts/training/mert-moses.pl\"\n",
    "    corpus_source = \"{experiment_folder}dev.historical\".format(**locals())\n",
    "    corpus_target = \"{experiment_folder}dev.modern\".format(**locals())\n",
    "    ini_file = \"{experiment_folder}model/moses.ini\".format(**locals())\n",
    "    mert_dir = \"{experiment_folder}mert/\".format(**locals())\n",
    "    !mkdir -p {mert_dir}\n",
    "    !{script} {corpus_hist} {corpus_mod} /local/kurs/mt/mosesdecoder/bin/moses {ini_file} --working-dir {mert_dir} --mertdir /local/kurs/mt/mosesdecoder/bin >{mert_dir}logfile.mert 2>&1\n",
    "    print(\"SMT Model tuned.\")"
   ]
  }
 ],
 "metadata": {
  "kernelspec": {
   "display_name": "Python 3",
   "language": "python",
   "name": "python3"
  },
  "language_info": {
   "codemirror_mode": {
    "name": "ipython",
    "version": 3
   },
   "file_extension": ".py",
   "mimetype": "text/x-python",
   "name": "python",
   "nbconvert_exporter": "python",
   "pygments_lexer": "ipython3",
   "version": "3.4.9"
  }
 },
 "nbformat": 4,
 "nbformat_minor": 2
}
